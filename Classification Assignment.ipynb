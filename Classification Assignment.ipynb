{
 "cells": [
  {
   "cell_type": "code",
   "execution_count": 1,
   "metadata": {},
   "outputs": [],
   "source": [
    "# Importing Packages\n",
    "\n",
    "import numpy as np\n",
    "import sklearn\n",
    "from sklearn.model_selection import train_test_split\n",
    "from sklearn.neighbors import KNeighborsClassifier\n",
    "from sklearn.metrics import classification_report\n",
    "from sklearn import datasets\n",
    "from skimage import exposure\n",
    "from __future__ import print_function\n",
    " "
   ]
  },
  {
   "cell_type": "code",
   "execution_count": 2,
   "metadata": {},
   "outputs": [],
   "source": [
    "# Importing Dataset\n",
    "\n",
    "mnist = datasets.load_digits()\n"
   ]
  },
  {
   "cell_type": "code",
   "execution_count": 3,
   "metadata": {},
   "outputs": [
    {
     "name": "stdout",
     "output_type": "stream",
     "text": [
      "Training data points: 1293\n",
      "Validation data points: 144\n",
      "Testing data points: 360\n"
     ]
    }
   ],
   "source": [
    "# Splitting the complete dataset into training and testing dataset (80%/20%)\n",
    "(trainData, testData, trainLabels, testLabels) = train_test_split(np.array(mnist.data),\n",
    "\tmnist.target, test_size=0.2, random_state=35)\n",
    " \n",
    "# Taking 10% of the training data for validation\n",
    "(trainData, valData, trainLabels, valLabels) = train_test_split(trainData, trainLabels,\n",
    "\ttest_size=0.1, random_state=59)\n",
    " \n",
    "# Prinitng the size of training, validation and testing dataset\n",
    "print(\"Training data points: {}\".format(len(trainLabels)))\n",
    "print(\"Validation data points: {}\".format(len(valLabels)))\n",
    "print(\"Testing data points: {}\".format(len(testLabels)))\n"
   ]
  },
  {
   "cell_type": "code",
   "execution_count": 4,
   "metadata": {},
   "outputs": [
    {
     "name": "stdout",
     "output_type": "stream",
     "text": [
      "k=1, accuracy=97.92%\n",
      "k=3, accuracy=98.61%\n",
      "k=5, accuracy=98.61%\n",
      "k=7, accuracy=97.92%\n",
      "k=9, accuracy=97.22%\n",
      "k=11, accuracy=97.22%\n",
      "k=13, accuracy=96.53%\n",
      "k=15, accuracy=96.53%\n",
      "k=17, accuracy=95.83%\n",
      "k=19, accuracy=95.83%\n",
      "k=21, accuracy=95.83%\n",
      "k=23, accuracy=95.83%\n",
      "k=25, accuracy=94.44%\n",
      "k=27, accuracy=94.44%\n",
      "k=29, accuracy=94.44%\n",
      "k=31, accuracy=94.44%\n",
      "k=33, accuracy=95.14%\n",
      "k=3 achieved highest accuracy of 98.61% on validation data\n"
     ]
    }
   ],
   "source": [
    "# Initializing K and its respective accuracy values\n",
    "kVals = range(1, 35, 2)\n",
    "accuracies = []\n",
    " \n",
    "# Looping the model for different K values\n",
    "for k in range(1, 35, 2):\n",
    "\t# Training model with K values in loop\n",
    "\tmodel = KNeighborsClassifier(n_neighbors=k)\n",
    "\tmodel.fit(trainData, trainLabels)\n",
    " \n",
    "\t# Accuracy of the models\n",
    "\tscore = model.score(valData, valLabels)\n",
    "\tprint(\"k=%d, accuracy=%.2f%%\" % (k, score * 100))\n",
    "\taccuracies.append(score)\n",
    "    \n",
    "# Finding the value of K that has highest accuracy\n",
    "i = int(np.argmax(accuracies))\n",
    "print(\"k=%d achieved highest accuracy of %.2f%% on validation data\" % (kVals[i],\n",
    "\taccuracies[i] * 100))\n"
   ]
  },
  {
   "cell_type": "code",
   "execution_count": 5,
   "metadata": {},
   "outputs": [
    {
     "name": "stdout",
     "output_type": "stream",
     "text": [
      "Predictions on testing Data\n",
      "             precision    recall  f1-score   support\n",
      "\n",
      "          0       1.00      1.00      1.00        33\n",
      "          1       0.89      1.00      0.94        32\n",
      "          2       1.00      1.00      1.00        32\n",
      "          3       0.97      0.97      0.97        36\n",
      "          4       1.00      0.92      0.96        37\n",
      "          5       1.00      0.97      0.99        39\n",
      "          6       1.00      1.00      1.00        39\n",
      "          7       0.95      1.00      0.97        38\n",
      "          8       0.90      0.87      0.89        31\n",
      "          9       0.98      0.95      0.96        43\n",
      "\n",
      "avg / total       0.97      0.97      0.97       360\n",
      "\n"
     ]
    }
   ],
   "source": [
    "# From the above predictions we can say that GENERALLY as the value of K increases the accuracy decreases expect for k=3.\n",
    "\n",
    "# Retraining the model with the most optimum value of K\n",
    "model = KNeighborsClassifier(n_neighbors=kVals[i])\n",
    "model.fit(trainData, trainLabels)\n",
    "predictions = model.predict(testData)\n",
    " \n",
    "# Final Predictions\n",
    "print(\"Predictions on testing Data\")\n",
    "print(classification_report(testLabels, predictions))\n"
   ]
  },
  {
   "cell_type": "code",
   "execution_count": 6,
   "metadata": {},
   "outputs": [],
   "source": [
    "# Building a classifier using GridSearchCV-\n",
    "# Import Statements-\n",
    "from sklearn.model_selection import GridSearchCV\n",
    "import matplotlib\n",
    "import matplotlib.pyplot as plt\n",
    "%matplotlib inline\n"
   ]
  },
  {
   "cell_type": "code",
   "execution_count": 7,
   "metadata": {},
   "outputs": [],
   "source": [
    "knn = KNeighborsClassifier()\n",
    "k_range = range(1, 30)\n",
    "param_grid = dict(n_neighbors = k_range)\n",
    "grid = GridSearchCV(knn, param_grid, cv = 10, scoring = 'accuracy')\n"
   ]
  },
  {
   "cell_type": "code",
   "execution_count": 8,
   "metadata": {},
   "outputs": [
    {
     "name": "stdout",
     "output_type": "stream",
     "text": [
      "{'n_neighbors': 1}\n",
      "[1.         1.         0.98496241 0.98473282 0.98449612 0.9921875\n",
      " 0.99206349 0.98412698 0.98412698 0.976     ]\n",
      "0.988399071925754\n"
     ]
    },
    {
     "name": "stderr",
     "output_type": "stream",
     "text": [
      "/Users/pranavjaipurkar/anaconda3/lib/python3.6/site-packages/sklearn/model_selection/_search.py:761: DeprecationWarning: The grid_scores_ attribute was deprecated in version 0.18 in favor of the more elaborate cv_results_ attribute. The grid_scores_ attribute will not be available from 0.20\n",
      "  DeprecationWarning)\n",
      "/Users/pranavjaipurkar/anaconda3/lib/python3.6/site-packages/sklearn/model_selection/_search.py:761: DeprecationWarning: The grid_scores_ attribute was deprecated in version 0.18 in favor of the more elaborate cv_results_ attribute. The grid_scores_ attribute will not be available from 0.20\n",
      "  DeprecationWarning)\n",
      "/Users/pranavjaipurkar/anaconda3/lib/python3.6/site-packages/sklearn/model_selection/_search.py:761: DeprecationWarning: The grid_scores_ attribute was deprecated in version 0.18 in favor of the more elaborate cv_results_ attribute. The grid_scores_ attribute will not be available from 0.20\n",
      "  DeprecationWarning)\n",
      "/Users/pranavjaipurkar/anaconda3/lib/python3.6/site-packages/sklearn/model_selection/_search.py:761: DeprecationWarning: The grid_scores_ attribute was deprecated in version 0.18 in favor of the more elaborate cv_results_ attribute. The grid_scores_ attribute will not be available from 0.20\n",
      "  DeprecationWarning)\n"
     ]
    }
   ],
   "source": [
    "# Fitting the model on train data-\n",
    "grid.fit(trainData, trainLabels)\n",
    "grid.grid_scores_\n",
    "print(grid.grid_scores_[0].parameters)\n",
    "print(grid.grid_scores_[0].cv_validation_scores)\n",
    "print(grid.grid_scores_[0].mean_validation_score)\n"
   ]
  },
  {
   "cell_type": "code",
   "execution_count": 9,
   "metadata": {},
   "outputs": [
    {
     "name": "stderr",
     "output_type": "stream",
     "text": [
      "/Users/pranavjaipurkar/anaconda3/lib/python3.6/site-packages/sklearn/model_selection/_search.py:761: DeprecationWarning: The grid_scores_ attribute was deprecated in version 0.18 in favor of the more elaborate cv_results_ attribute. The grid_scores_ attribute will not be available from 0.20\n",
      "  DeprecationWarning)\n"
     ]
    },
    {
     "data": {
      "text/plain": [
       "[0.988399071925754,\n",
       " 0.988399071925754,\n",
       " 0.9891724671307038,\n",
       " 0.9868522815158546,\n",
       " 0.9899458623356535,\n",
       " 0.9876256767208044,\n",
       " 0.9899458623356535,\n",
       " 0.9876256767208044,\n",
       " 0.9860788863109049,\n",
       " 0.9837587006960556,\n",
       " 0.982985305491106,\n",
       " 0.9814385150812065,\n",
       " 0.9814385150812065,\n",
       " 0.9775715390564579,\n",
       " 0.9760247486465584,\n",
       " 0.9775715390564579,\n",
       " 0.974477958236659,\n",
       " 0.97138437741686,\n",
       " 0.97138437741686,\n",
       " 0.9698375870069605,\n",
       " 0.9675174013921114,\n",
       " 0.9667440061871616,\n",
       " 0.9675174013921114,\n",
       " 0.9682907965970611,\n",
       " 0.9651972157772621,\n",
       " 0.9667440061871616,\n",
       " 0.9651972157772621,\n",
       " 0.9644238205723125,\n",
       " 0.9651972157772621]"
      ]
     },
     "execution_count": 9,
     "metadata": {},
     "output_type": "execute_result"
    }
   ],
   "source": [
    "# Printing mean scores-\n",
    "grid_mean_scores = [result.mean_validation_score for result in grid.grid_scores_]\n",
    "grid_mean_scores\n"
   ]
  },
  {
   "cell_type": "code",
   "execution_count": 10,
   "metadata": {},
   "outputs": [
    {
     "data": {
      "text/plain": [
       "Text(0,0.5,'Cross Validation Accuracy')"
      ]
     },
     "execution_count": 10,
     "metadata": {},
     "output_type": "execute_result"
    },
    {
     "data": {
      "image/png": "[encoded data removed]",
      "text/plain": [
       "<Figure size 432x288 with 1 Axes>"
      ]
     },
     "metadata": {},
     "output_type": "display_data"
    }
   ],
   "source": [
    "# Plots-\n",
    "plt.plot(k_range, grid_mean_scores)\n",
    "plt.xlabel('K')\n",
    "plt.ylabel('Cross Validation Accuracy')\n"
   ]
  },
  {
   "cell_type": "code",
   "execution_count": 11,
   "metadata": {},
   "outputs": [
    {
     "data": {
      "text/plain": [
       "KNeighborsClassifier(algorithm='auto', leaf_size=30, metric='minkowski',\n",
       "           metric_params=None, n_jobs=1, n_neighbors=5, p=2,\n",
       "           weights='uniform')"
      ]
     },
     "execution_count": 11,
     "metadata": {},
     "output_type": "execute_result"
    }
   ],
   "source": [
    "# Extracting the necessary values\n",
    "grid.best_score_\n",
    "grid.best_params_\n",
    "grid.best_estimator_\n"
   ]
  },
  {
   "cell_type": "code",
   "execution_count": 12,
   "metadata": {},
   "outputs": [
    {
     "name": "stdout",
     "output_type": "stream",
     "text": [
      "{'n_neighbors': 1}\n",
      "[0.97560976 0.95       0.94736842 0.97222222 0.94444444 0.97222222\n",
      " 1.         0.97058824 0.96969697 0.96774194]\n",
      "0.9666666666666667\n"
     ]
    },
    {
     "name": "stderr",
     "output_type": "stream",
     "text": [
      "/Users/pranavjaipurkar/anaconda3/lib/python3.6/site-packages/sklearn/model_selection/_search.py:761: DeprecationWarning: The grid_scores_ attribute was deprecated in version 0.18 in favor of the more elaborate cv_results_ attribute. The grid_scores_ attribute will not be available from 0.20\n",
      "  DeprecationWarning)\n",
      "/Users/pranavjaipurkar/anaconda3/lib/python3.6/site-packages/sklearn/model_selection/_search.py:761: DeprecationWarning: The grid_scores_ attribute was deprecated in version 0.18 in favor of the more elaborate cv_results_ attribute. The grid_scores_ attribute will not be available from 0.20\n",
      "  DeprecationWarning)\n",
      "/Users/pranavjaipurkar/anaconda3/lib/python3.6/site-packages/sklearn/model_selection/_search.py:761: DeprecationWarning: The grid_scores_ attribute was deprecated in version 0.18 in favor of the more elaborate cv_results_ attribute. The grid_scores_ attribute will not be available from 0.20\n",
      "  DeprecationWarning)\n",
      "/Users/pranavjaipurkar/anaconda3/lib/python3.6/site-packages/sklearn/model_selection/_search.py:761: DeprecationWarning: The grid_scores_ attribute was deprecated in version 0.18 in favor of the more elaborate cv_results_ attribute. The grid_scores_ attribute will not be available from 0.20\n",
      "  DeprecationWarning)\n"
     ]
    }
   ],
   "source": [
    "# Fitting the model on testing data-\n",
    "grid.fit(testData, testLabels)\n",
    "grid.grid_scores_\n",
    "print(grid.grid_scores_[0].parameters)\n",
    "print(grid.grid_scores_[0].cv_validation_scores)\n",
    "print(grid.grid_scores_[0].mean_validation_score)"
   ]
  },
  {
   "cell_type": "code",
   "execution_count": 13,
   "metadata": {},
   "outputs": [
    {
     "name": "stderr",
     "output_type": "stream",
     "text": [
      "/Users/pranavjaipurkar/anaconda3/lib/python3.6/site-packages/sklearn/model_selection/_search.py:761: DeprecationWarning: The grid_scores_ attribute was deprecated in version 0.18 in favor of the more elaborate cv_results_ attribute. The grid_scores_ attribute will not be available from 0.20\n",
      "  DeprecationWarning)\n"
     ]
    },
    {
     "data": {
      "text/plain": [
       "[0.9666666666666667,\n",
       " 0.9527777777777777,\n",
       " 0.9638888888888889,\n",
       " 0.9472222222222222,\n",
       " 0.9388888888888889,\n",
       " 0.9388888888888889,\n",
       " 0.9333333333333333,\n",
       " 0.9222222222222223,\n",
       " 0.9222222222222223,\n",
       " 0.9194444444444444,\n",
       " 0.9277777777777778,\n",
       " 0.9166666666666666,\n",
       " 0.9194444444444444,\n",
       " 0.9111111111111111,\n",
       " 0.9083333333333333,\n",
       " 0.9055555555555556,\n",
       " 0.9055555555555556,\n",
       " 0.8972222222222223,\n",
       " 0.9027777777777778,\n",
       " 0.9055555555555556,\n",
       " 0.9,\n",
       " 0.9138888888888889,\n",
       " 0.9027777777777778,\n",
       " 0.9027777777777778,\n",
       " 0.8972222222222223,\n",
       " 0.9027777777777778,\n",
       " 0.9055555555555556,\n",
       " 0.9027777777777778,\n",
       " 0.9055555555555556]"
      ]
     },
     "execution_count": 13,
     "metadata": {},
     "output_type": "execute_result"
    }
   ],
   "source": [
    "# Printing mean scores-\n",
    "grid_mean_scores = [result.mean_validation_score for result in grid.grid_scores_]\n",
    "grid_mean_scores\n"
   ]
  },
  {
   "cell_type": "code",
   "execution_count": 14,
   "metadata": {},
   "outputs": [
    {
     "data": {
      "text/plain": [
       "Text(0,0.5,'Cross Validation Accuracy')"
      ]
     },
     "execution_count": 14,
     "metadata": {},
     "output_type": "execute_result"
    },
    {
     "data": {
      "image/png": "[encoded data removed]",
      "text/plain": [
       "<Figure size 432x288 with 1 Axes>"
      ]
     },
     "metadata": {},
     "output_type": "display_data"
    }
   ],
   "source": [
    "# Plots-\n",
    "plt.plot(k_range, grid_mean_scores)\n",
    "plt.xlabel('K')\n",
    "plt.ylabel('Cross Validation Accuracy')"
   ]
  },
  {
   "cell_type": "code",
   "execution_count": 15,
   "metadata": {},
   "outputs": [
    {
     "data": {
      "text/plain": [
       "KNeighborsClassifier(algorithm='auto', leaf_size=30, metric='minkowski',\n",
       "           metric_params=None, n_jobs=1, n_neighbors=1, p=2,\n",
       "           weights='uniform')"
      ]
     },
     "execution_count": 15,
     "metadata": {},
     "output_type": "execute_result"
    }
   ],
   "source": [
    "# Extracting the necessary values\n",
    "grid.best_score_\n",
    "grid.best_params_\n",
    "grid.best_estimator_"
   ]
  },
  {
   "cell_type": "code",
   "execution_count": 16,
   "metadata": {},
   "outputs": [],
   "source": [
    "# As we see the highest value of Cross Validation Accuracy occurs for K=1, but K=1 would create a huge number of clusters hence we would take K = 3."
   ]
  },
  {
   "cell_type": "code",
   "execution_count": 18,
   "metadata": {},
   "outputs": [
    {
     "name": "stdout",
     "output_type": "stream",
     "text": [
      "Predictions on testing Data\n",
      "             precision    recall  f1-score   support\n",
      "\n",
      "          0       1.00      1.00      1.00        33\n",
      "          1       0.89      1.00      0.94        32\n",
      "          2       1.00      1.00      1.00        32\n",
      "          3       0.97      0.97      0.97        36\n",
      "          4       1.00      0.92      0.96        37\n",
      "          5       1.00      0.97      0.99        39\n",
      "          6       1.00      1.00      1.00        39\n",
      "          7       0.95      1.00      0.97        38\n",
      "          8       0.90      0.87      0.89        31\n",
      "          9       0.98      0.95      0.96        43\n",
      "\n",
      "avg / total       0.97      0.97      0.97       360\n",
      "\n"
     ]
    }
   ],
   "source": [
    "# Retraining the model with the most optimum value of K\n",
    "model = KNeighborsClassifier(n_neighbors=3)\n",
    "model.fit(trainData, trainLabels)\n",
    "predictions = model.predict(testData)\n",
    " \n",
    "# Final Predictions\n",
    "print(\"Predictions on testing Data\")\n",
    "print(classification_report(testLabels, predictions))"
   ]
  }
 ],
 "metadata": {
  "kernelspec": {
   "display_name": "Python 3",
   "language": "python",
   "name": "python3"
  },
  "language_info": {
   "codemirror_mode": {
    "name": "ipython",
    "version": 3
   },
   "file_extension": ".py",
   "mimetype": "text/x-python",
   "name": "python",
   "nbconvert_exporter": "python",
   "pygments_lexer": "ipython3",
   "version": "3.8.3"
  }
 },
 "nbformat": 4,
 "nbformat_minor": 2
}
